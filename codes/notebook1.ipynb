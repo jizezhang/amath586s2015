{
 "metadata": {
  "name": ""
 },
 "nbformat": 3,
 "nbformat_minor": 0,
 "worksheets": [
  {
   "cells": [
    {
     "cell_type": "markdown",
     "metadata": {},
     "source": [
      "# Applied Math 586, Notebook 1\n",
      "\n",
      "Illustration of implementing Forward Euler, computing errors, and exploring absolute stability.\n",
      "\n",
      "The next cell sets things up so that `NumPy` and `matplotlib` are imported and plots appear inline."
     ]
    },
    {
     "cell_type": "code",
     "collapsed": false,
     "input": [
      "%pylab inline"
     ],
     "language": "python",
     "metadata": {},
     "outputs": [],
     "prompt_number": null
    },
    {
     "cell_type": "markdown",
     "metadata": {},
     "source": [
      "## General implementation of Forward Euler"
     ]
    },
    {
     "cell_type": "code",
     "collapsed": false,
     "input": [
      "def euler(f, t0, tfinal, eta, nsteps, verbose=True):\n",
      "    un = zeros(nsteps+1)\n",
      "    un[0] = eta\n",
      "    dt = float(tfinal) / nsteps\n",
      "    if verbose:\n",
      "        print \"dt = %10.6f\" % dt\n",
      "    tn = linspace(t0,tfinal,nsteps+1)\n",
      "    for n in range(nsteps):\n",
      "        un[n+1] = un[n] + dt*f(un[n],tn[n])\n",
      "    return tn,un"
     ],
     "language": "python",
     "metadata": {},
     "outputs": [],
     "prompt_number": null
    },
    {
     "cell_type": "markdown",
     "metadata": {},
     "source": [
      "### Test this out..."
     ]
    },
    {
     "cell_type": "markdown",
     "metadata": {},
     "source": [
      "Solve $u'(t) = -\\lambda (u(t) - \\cos(t)) - \\sin(t)$ with $u(0) = 1$.\n",
      "\n",
      "The solution of $u(t) = \\cos(t)$ regardless of the value of $\\lambda$, but the behavior of numerical methods can change dramatically."
     ]
    },
    {
     "cell_type": "code",
     "collapsed": false,
     "input": [
      "lam = -1.\n",
      "def f(u,t):\n",
      "    return lam * (u - cos(t)) - sin(t)"
     ],
     "language": "python",
     "metadata": {},
     "outputs": [],
     "prompt_number": null
    },
    {
     "cell_type": "markdown",
     "metadata": {},
     "source": [
      "This defines the function $f(u,t)$.  Note we use `lam` for $\\lambda$ because `lambda` is a reserved keyword in Python, used to define \"lambda functions\", a handy way to describe a one-line function on the fly.  We'll use this to define the true solution function:"
     ]
    },
    {
     "cell_type": "code",
     "collapsed": false,
     "input": [
      "utrue = lambda t: cos(t)"
     ],
     "language": "python",
     "metadata": {},
     "outputs": [],
     "prompt_number": null
    },
    {
     "cell_type": "markdown",
     "metadata": {},
     "source": [
      "Initial data and final time:"
     ]
    },
    {
     "cell_type": "code",
     "collapsed": false,
     "input": [
      "t0 = 0;  tfinal = 10.;  eta = 1."
     ],
     "language": "python",
     "metadata": {},
     "outputs": [],
     "prompt_number": null
    },
    {
     "cell_type": "markdown",
     "metadata": {},
     "source": [
      "Solve with Forward Euler and plot the solution:"
     ]
    },
    {
     "cell_type": "code",
     "collapsed": false,
     "input": [
      "nsteps = 50\n",
      "tn,un = euler(f, t0, tfinal, eta, nsteps)\n",
      "plot(tn,un,'bo-')\n",
      "plot(tn,utrue(tn),'k')"
     ],
     "language": "python",
     "metadata": {},
     "outputs": [],
     "prompt_number": null
    },
    {
     "cell_type": "markdown",
     "metadata": {},
     "source": [
      "Try the following:\n",
      "\n",
      "- `lam = -1` and `nsteps = 50, 100`\n",
      "- `lam = -100` and `nsteps = 100, 400, 500`\n",
      "- `lam = -100` and `nsteps = 490` and zoom in with `xlim(6,7)`"
     ]
    },
    {
     "cell_type": "markdown",
     "metadata": {},
     "source": [
      "## Make a table and log-log plot of errors:"
     ]
    },
    {
     "cell_type": "code",
     "collapsed": false,
     "input": [
      "nvals = array([25,50,100,200,400,800,1600,3200])\n",
      "dtvals = tfinal / nvals\n",
      "errors_euler = []\n",
      "for nsteps in nvals:\n",
      "    tn,un = euler(f, t0, tfinal, eta, nsteps, False)\n",
      "    en = abs(un[-1] - utrue(tfinal))\n",
      "    print \"nsteps = %6i, error = %10.8f\" % (nsteps, en)\n",
      "    errors_euler.append(en)\n",
      "loglog(dtvals, errors_euler, 'o-')\n",
      "xlabel('Time step')\n",
      "ylabel('Error at t = %s' % tfinal)\n",
      "ylim(1e-4, 1)"
     ],
     "language": "python",
     "metadata": {},
     "outputs": [],
     "prompt_number": null
    },
    {
     "cell_type": "markdown",
     "metadata": {},
     "source": [
      "## The problem from Homework 1 Problem 6:"
     ]
    },
    {
     "cell_type": "code",
     "collapsed": false,
     "input": [
      "f = lambda u,t:  u**2 - sin(t) - cos(t)**2"
     ],
     "language": "python",
     "metadata": {},
     "outputs": [],
     "prompt_number": null
    },
    {
     "cell_type": "code",
     "collapsed": false,
     "input": [
      "tfinal = 20\n",
      "nsteps = 160\n",
      "tn,un = euler(f, t0, tfinal, eta, nsteps)\n",
      "plot(tn,un,'bo-')\n",
      "plot(tn,utrue(tn),'k')"
     ],
     "language": "python",
     "metadata": {},
     "outputs": [],
     "prompt_number": null
    },
    {
     "cell_type": "markdown",
     "metadata": {},
     "source": [
      "Try other values of `nsteps = 150, 140, 130, 120, 110`."
     ]
    },
    {
     "cell_type": "code",
     "collapsed": false,
     "input": [],
     "language": "python",
     "metadata": {},
     "outputs": []
    }
   ],
   "metadata": {}
  }
 ]
}