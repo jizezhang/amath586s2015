{
 "cells": [
  {
   "cell_type": "markdown",
   "metadata": {},
   "source": [
    "# Applied Math 586, Notebook 2\n",
    "\n",
    "Illustration of implementing Forward Euler and exploring absolute stability for a nonlinear problem.\n",
    "\n",
    "The next cell sets things up so that `NumPy` and `matplotlib` are imported and plots appear inline."
   ]
  },
  {
   "cell_type": "code",
   "execution_count": null,
   "metadata": {
    "collapsed": false
   },
   "outputs": [],
   "source": [
    "%pylab inline"
   ]
  },
  {
   "cell_type": "markdown",
   "metadata": {},
   "source": [
    "## General implementation of Forward Euler"
   ]
  },
  {
   "cell_type": "code",
   "execution_count": null,
   "metadata": {
    "collapsed": false
   },
   "outputs": [],
   "source": [
    "def euler(f, t0, tfinal, eta, nsteps, verbose=True):\n",
    "    un = zeros(nsteps+1)\n",
    "    un[0] = eta\n",
    "    dt = float(tfinal) / nsteps\n",
    "    if verbose:\n",
    "        print \"dt = %10.6f\" % dt\n",
    "    tn = linspace(t0,tfinal,nsteps+1)\n",
    "    for n in range(nsteps):\n",
    "        un[n+1] = un[n] + dt*f(un[n],tn[n])\n",
    "    return tn,un"
   ]
  },
  {
   "cell_type": "markdown",
   "metadata": {},
   "source": [
    "## The problem from Homework 1 Problem 6:\n",
    "\n",
    "$u'(t) = u^2(t) - \\sin(t) - \\cos^2(t)$."
   ]
  },
  {
   "cell_type": "code",
   "execution_count": null,
   "metadata": {
    "collapsed": false
   },
   "outputs": [],
   "source": [
    "f = lambda u,t:  u**2 - sin(t) - cos(t)**2\n",
    "utrue = lambda t: cos(t)\n",
    "t0 = 0;  tfinal = 30.;  eta = 1."
   ]
  },
  {
   "cell_type": "code",
   "execution_count": null,
   "metadata": {
    "collapsed": false
   },
   "outputs": [],
   "source": [
    "nsteps = 280\n",
    "tn,un = euler(f, t0, tfinal, eta, nsteps)\n",
    "plot(tn,un,'bo-')\n",
    "plot(tn,utrue(tn),'k')"
   ]
  },
  {
   "cell_type": "markdown",
   "metadata": {},
   "source": [
    "### Plots of error and amplification factor\n",
    "\n",
    "Note that the error is growing in regions where $U^n >0$ and decaying where $U^n <0$, at least as long as $U^n$ does not get too far away from the true solution:"
   ]
  },
  {
   "cell_type": "code",
   "execution_count": null,
   "metadata": {
    "collapsed": false
   },
   "outputs": [],
   "source": [
    "En = un - utrue(tn) \n",
    "En_max = abs(En).max()\n",
    "En_normalized = 2 * En / En_max\n",
    "plot(tn, En, 'o-')\n",
    "title(\"Error in Euler solution\")\n",
    "figure()\n",
    "dt = (tfinal - t0)/nsteps\n",
    "plot(tn, 1. + 2*dt*un, 'r')\n",
    "title(\"Amplification factor\")"
   ]
  },
  {
   "cell_type": "markdown",
   "metadata": {},
   "source": [
    "Also note that the true solution is very sensitive to initial conditions for this problem, so if we get too far from the true solution we start moving away and can't recover.  (And recall that $u'(t) = u^2(t)$ has a solution that blows up in finite time.)\n",
    "\n",
    "Below we use the SciPy routine `odeint` to better approximate the true solution with other initial conditions $u(0)$:"
   ]
  },
  {
   "cell_type": "code",
   "execution_count": null,
   "metadata": {
    "collapsed": false
   },
   "outputs": [],
   "source": [
    "from scipy.integrate import odeint\n",
    "t_out = linspace(0,3,200)\n",
    "for u0 in linspace(0.9, 1.07, 11):\n",
    "    u_out = odeint(f, u0, t_out)\n",
    "    plot(t_out, u_out, 'b')\n",
    "plot(t_out, cos(t_out), 'r')"
   ]
  },
  {
   "cell_type": "code",
   "execution_count": null,
   "metadata": {
    "collapsed": true
   },
   "outputs": [],
   "source": []
  }
 ],
 "metadata": {
  "kernelspec": {
   "display_name": "Python 2",
   "language": "python",
   "name": "python2"
  },
  "language_info": {
   "codemirror_mode": {
    "name": "ipython",
    "version": 2
   },
   "file_extension": ".py",
   "mimetype": "text/x-python",
   "name": "python",
   "nbconvert_exporter": "python",
   "pygments_lexer": "ipython2",
   "version": "2.7.9"
  }
 },
 "nbformat": 4,
 "nbformat_minor": 0
}
