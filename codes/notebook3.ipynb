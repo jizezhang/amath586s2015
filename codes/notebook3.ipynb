{
 "cells": [
  {
   "cell_type": "markdown",
   "metadata": {},
   "source": [
    "# Applied Math 586, Notebook 3\n",
    "\n",
    "###Illustration of boundary locus method\n",
    "\n",
    "The next cell sets things up so that `NumPy` and `matplotlib` are imported and plots appear inline."
   ]
  },
  {
   "cell_type": "code",
   "execution_count": null,
   "metadata": {
    "collapsed": false
   },
   "outputs": [],
   "source": [
    "%pylab inline"
   ]
  },
  {
   "cell_type": "code",
   "execution_count": null,
   "metadata": {
    "collapsed": true
   },
   "outputs": [],
   "source": [
    "def plotBL(rho, sigma, axisbox = [-2, 2, -2, 2]):\n",
    "    theta = linspace(0, 2*pi, 1000)\n",
    "    eitheta = exp(1j * theta)\n",
    "    z = rho(eitheta) / sigma(eitheta)\n",
    "    plot(z.real, z.imag, 'r', linewidth=2)\n",
    "    \n",
    "    # plot axes\n",
    "    xa, xb, ya, yb = axisbox\n",
    "    plot([xa, xb], [0, 0], 'k')\n",
    "    plot([0, 0], [ya, yb], 'k')\n",
    "    axis(axisbox)\n",
    "    axis('scaled')  # so circles are circular\n"
   ]
  },
  {
   "cell_type": "markdown",
   "metadata": {},
   "source": [
    "### 3-step Adams-Bashforth"
   ]
  },
  {
   "cell_type": "code",
   "execution_count": null,
   "metadata": {
    "collapsed": false
   },
   "outputs": [],
   "source": [
    "rho = lambda z: (z-1.) * z**2\n",
    "sigma = lambda z: ((23*z - 16)*z + 5.) / 12.\n",
    "plotBL(rho,sigma)"
   ]
  },
  {
   "cell_type": "markdown",
   "metadata": {},
   "source": [
    "### 5-step Adams-Bashforth"
   ]
  },
  {
   "cell_type": "code",
   "execution_count": null,
   "metadata": {
    "collapsed": false
   },
   "outputs": [],
   "source": [
    "rho = lambda z: (z-1.) * z**4\n",
    "sigma = lambda z: ((((1901*z - 2774)*z +2616)*z -1274)*z + 251) / 720\n",
    "plotBL(rho,sigma)"
   ]
  },
  {
   "cell_type": "markdown",
   "metadata": {},
   "source": [
    "### 5-step Adams-Moulton"
   ]
  },
  {
   "cell_type": "code",
   "execution_count": null,
   "metadata": {
    "collapsed": false
   },
   "outputs": [],
   "source": [
    "rho = lambda z: (z-1.) * z**4\n",
    "sigma = lambda z:  (((((475*z + 1427)*z - 798)*z + 482)*z - 173)*z + 27)/ 1440\n",
    "plotBL(rho,sigma)"
   ]
  }
 ],
 "metadata": {
  "kernelspec": {
   "display_name": "Python 2",
   "language": "python",
   "name": "python2"
  },
  "language_info": {
   "codemirror_mode": {
    "name": "ipython",
    "version": 2
   },
   "file_extension": ".py",
   "mimetype": "text/x-python",
   "name": "python",
   "nbconvert_exporter": "python",
   "pygments_lexer": "ipython2",
   "version": "2.7.9"
  }
 },
 "nbformat": 4,
 "nbformat_minor": 0
}
